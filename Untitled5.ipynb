{
  "nbformat": 4,
  "nbformat_minor": 0,
  "metadata": {
    "colab": {
      "provenance": [],
      "authorship_tag": "ABX9TyPERY0HOk1zIICq0Ya9Xek+",
      "include_colab_link": true
    },
    "kernelspec": {
      "name": "python3",
      "display_name": "Python 3"
    },
    "language_info": {
      "name": "python"
    }
  },
  "cells": [
    {
      "cell_type": "markdown",
      "metadata": {
        "id": "view-in-github",
        "colab_type": "text"
      },
      "source": [
        "<a href=\"https://colab.research.google.com/github/rahmosthated/grade-calculator/blob/main/Untitled5.ipynb\" target=\"_parent\"><img src=\"https://colab.research.google.com/assets/colab-badge.svg\" alt=\"Open In Colab\"/></a>"
      ]
    },
    {
      "cell_type": "code",
      "execution_count": null,
      "metadata": {
        "id": "b5gGSfXU6sPR"
      },
      "outputs": [],
      "source": [
        "# Gather input from the user\n",
        "current_average = float(input(\"Enter the student's current average (0-100): \"))\n",
        "passed_final = input(\"Did the student pass the final exam? (yes/no): \").strip().lower()\n",
        "\n",
        "# Check if the student passed the course\n",
        "if passed_final == \"yes\" and current_average > 50:\n",
        "    print(\"The student passes the course.\")\n",
        "else:\n",
        "    print(\"The student fails the course.\")\n"
      ]
    }
  ]
}